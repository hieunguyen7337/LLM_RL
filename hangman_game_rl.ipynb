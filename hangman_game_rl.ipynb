{
  "nbformat": 4,
  "nbformat_minor": 0,
  "metadata": {
    "colab": {
      "provenance": [],
      "authorship_tag": "ABX9TyNAVkFC22pecJuKSBxXJPuX",
      "include_colab_link": true
    },
    "kernelspec": {
      "name": "python3",
      "display_name": "Python 3"
    },
    "language_info": {
      "name": "python"
    }
  },
  "cells": [
    {
      "cell_type": "markdown",
      "metadata": {
        "id": "view-in-github",
        "colab_type": "text"
      },
      "source": [
        "<a href=\"https://colab.research.google.com/github/hieunguyen7337/LLM_RL/blob/main/hangman_game_rl.ipynb\" target=\"_parent\"><img src=\"https://colab.research.google.com/assets/colab-badge.svg\" alt=\"Open In Colab\"/></a>"
      ]
    },
    {
      "cell_type": "code",
      "source": [
        "from datasets import load_dataset\n",
        "from trl import GRPOTrainer"
      ],
      "metadata": {
        "id": "ougOkRqKW24P"
      },
      "execution_count": null,
      "outputs": []
    },
    {
      "cell_type": "code",
      "source": [
        "# model_name = \"Qwen/Qwen3-0.6B\"\n",
        "model_name = \"Qwen/Qwen2-0.5B-Instruct\""
      ],
      "metadata": {
        "id": "jGgbsxOoW5GT"
      },
      "execution_count": null,
      "outputs": []
    },
    {
      "cell_type": "code",
      "source": [
        "dataset = load_dataset(\"trl-lib/tldr\", split=\"train\")"
      ],
      "metadata": {
        "id": "MJwl_pmsFIyF"
      },
      "execution_count": null,
      "outputs": []
    },
    {
      "cell_type": "code",
      "source": [
        "# Dummy reward function: count the number of unique characters in the completions\n",
        "def reward_num_unique_chars(completions, **kwargs):\n",
        "    return [len(set(c)) for c in completions]"
      ],
      "metadata": {
        "id": "4kcjZQTAFJiX"
      },
      "execution_count": null,
      "outputs": []
    },
    {
      "cell_type": "code",
      "source": [
        "trainer = GRPOTrainer(\n",
        "    model=model_name,\n",
        "    reward_funcs=reward_num_unique_chars,\n",
        "    train_dataset=dataset,\n",
        ")"
      ],
      "metadata": {
        "id": "xnUySwD-FLpv"
      },
      "execution_count": null,
      "outputs": []
    },
    {
      "cell_type": "code",
      "source": [
        "trainer.train()"
      ],
      "metadata": {
        "id": "VHWJ2W62Ez8G"
      },
      "execution_count": null,
      "outputs": []
    }
  ]
}